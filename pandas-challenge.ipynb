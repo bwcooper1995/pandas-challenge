{
 "cells": [
  {
   "cell_type": "code",
   "execution_count": null,
   "id": "81861701",
   "metadata": {},
   "outputs": [],
   "source": [
    "import pandas as pd"
   ]
  },
  {
   "cell_type": "code",
   "execution_count": null,
   "id": "8e1690e3",
   "metadata": {},
   "outputs": [],
   "source": [
    "school_data = pd.read_csv(\"Starter_Code/PyCitySchools/Resources/schools_complete.csv\")\n",
    "student_data = pd.read_csv(\"Starter_Code/PyCitySchools/Resources/students_complete.csv\")"
   ]
  },
  {
   "cell_type": "code",
   "execution_count": null,
   "id": "c752522e",
   "metadata": {},
   "outputs": [],
   "source": [
    "combined_data = pd.merge(student_data, school_data, how=\"left\", on=[\"school_name\", \"school_name\"])\n",
    "combined_data.head()"
   ]
  },
  {
   "cell_type": "code",
   "execution_count": null,
   "id": "fb5353ec",
   "metadata": {},
   "outputs": [],
   "source": [
    "school_count = len(school_data)\n",
    "school_count"
   ]
  },
  {
   "cell_type": "code",
   "execution_count": null,
   "id": "e84d9de0",
   "metadata": {},
   "outputs": [],
   "source": [
    "student_count = len(student_data)\n",
    "student_count"
   ]
  },
  {
   "cell_type": "code",
   "execution_count": null,
   "id": "c9b819da",
   "metadata": {},
   "outputs": [],
   "source": [
    "list(school_data)"
   ]
  },
  {
   "cell_type": "code",
   "execution_count": null,
   "id": "bb4a608e",
   "metadata": {},
   "outputs": [],
   "source": [
    "school_data_budget = school_data.loc[:, \"budget\"]\n",
    "school_data_budget"
   ]
  },
  {
   "cell_type": "code",
   "execution_count": null,
   "id": "6e1a6488",
   "metadata": {},
   "outputs": [],
   "source": [
    "total_budget = school_data_budget.sum()\n",
    "total_budget"
   ]
  },
  {
   "cell_type": "code",
   "execution_count": null,
   "id": "acea2f2e",
   "metadata": {},
   "outputs": [],
   "source": [
    "list(combined_data)"
   ]
  },
  {
   "cell_type": "code",
   "execution_count": null,
   "id": "c2c724c9",
   "metadata": {},
   "outputs": [],
   "source": [
    "math_scores = combined_data.loc[:, \"math_score\"]"
   ]
  },
  {
   "cell_type": "code",
   "execution_count": null,
   "id": "cf87ea81",
   "metadata": {},
   "outputs": [],
   "source": [
    "average_math_score = math_scores.mean()\n",
    "average_math_score"
   ]
  },
  {
   "cell_type": "code",
   "execution_count": null,
   "id": "0127f99c",
   "metadata": {},
   "outputs": [],
   "source": [
    "reading_scores = combined_data.loc[:, \"reading_score\"]"
   ]
  },
  {
   "cell_type": "code",
   "execution_count": null,
   "id": "e34dfb30",
   "metadata": {},
   "outputs": [],
   "source": [
    "average_reading_score = reading_scores.mean()\n",
    "average_reading_score"
   ]
  },
  {
   "cell_type": "code",
   "execution_count": null,
   "id": "8ebae5b5",
   "metadata": {},
   "outputs": [],
   "source": [
    "passing_students_math = combined_data[(combined_data[\"math_score\"] >= 70)].count()[\"student_name\"]\n",
    "percentage_passing_math = passing_students_math / student_count * 100\n",
    "percentage_passing_math"
   ]
  },
  {
   "cell_type": "code",
   "execution_count": null,
   "id": "e4d7cc24",
   "metadata": {},
   "outputs": [],
   "source": [
    "passing_students_reading = combined_data[(combined_data[\"reading_score\"] >= 70)].count()[\"student_name\"]\n",
    "percentage_passing_reading = passing_students_reading / student_count * 100\n",
    "percentage_passing_reading"
   ]
  },
  {
   "cell_type": "code",
   "execution_count": null,
   "id": "f7dc99b0",
   "metadata": {},
   "outputs": [],
   "source": [
    "passing_reading_math = combined_data[(combined_data[\"math_score\"] >= 70) & (combined_data[\"reading_score\"] >= 70)].count()[\"student_name\"]\n",
    "percentage_passing_reading_math = passing_reading_math / student_count * 100\n",
    "percentage_passing_reading_math"
   ]
  },
  {
   "cell_type": "code",
   "execution_count": null,
   "id": "123db4ee",
   "metadata": {},
   "outputs": [],
   "source": [
    "school_district_summary = {\"Total School\": [school_count], \"Total Students\": [student_count], \"Total Budget\": [total_budget], \n",
    "                           \"Average Math Score\": [average_math_score], \"Average Reading Score\": [average_reading_score],\n",
    "                           \"% Passing Math\": [percentage_passing_math], \"% Passing Reading\": [percentage_passing_reading],\n",
    "                           \"% Overall Passing\": [percentage_passing_reading_math]}\n",
    "\n",
    "district_df = pd.DataFrame.from_dict(school_district_summary)\n",
    "district_df[\"Total Students\"] = district_df[\"Total Students\"].map(\"{:,}\".format)\n",
    "district_df[\"Total Budget\"] = district_df[\"Total Budget\"].map(\"${:,.2f}\".format)\n",
    "district_df"
   ]
  },
  {
   "cell_type": "code",
   "execution_count": null,
   "id": "4563c09c",
   "metadata": {},
   "outputs": [],
   "source": [
    "school_types = combined_data.set_index([\"school_name\"])[\"type\"]\n",
    "school_types_df = pd.DataFrame(school_types)\n",
    "school_types_df_dropped = school_types_df.reset_index().drop_duplicates(subset=\"school_name\", keep=\"last\").set_index(\"school_name\")"
   ]
  },
  {
   "cell_type": "code",
   "execution_count": null,
   "id": "11870cdb",
   "metadata": {},
   "outputs": [],
   "source": [
    "students_by_school = combined_data[\"school_name\"].value_counts()\n",
    "students_by_school_df = pd.DataFrame(students_by_school)"
   ]
  },
  {
   "cell_type": "code",
   "execution_count": null,
   "id": "07ffdb7b",
   "metadata": {},
   "outputs": [],
   "source": [
    "budget_by_school = combined_data.groupby([\"school_name\"]).mean()[\"budget\"]\n",
    "budget_by_school_df = pd.DataFrame(budget_by_school)\n",
    "school_per_capita = budget_by_school / students_by_school\n",
    "school_per_capita_df = pd.DataFrame(school_per_capita)"
   ]
  },
  {
   "cell_type": "code",
   "execution_count": null,
   "id": "7c2d7f69",
   "metadata": {},
   "outputs": [],
   "source": [
    "per_school_math = combined_data.groupby([\"school_name\"]).mean()[\"math_score\"]\n",
    "per_school_reading = combined_data.groupby([\"school_name\"]).mean()[\"reading_score\"]"
   ]
  },
  {
   "cell_type": "code",
   "execution_count": null,
   "id": "3d974dd5",
   "metadata": {},
   "outputs": [],
   "source": [
    "per_school_math_df = pd.DataFrame(per_school_math)"
   ]
  },
  {
   "cell_type": "code",
   "execution_count": null,
   "id": "4b1c9352",
   "metadata": {},
   "outputs": [],
   "source": [
    "per_school_reading_df = pd.DataFrame(per_school_reading)"
   ]
  },
  {
   "cell_type": "code",
   "execution_count": null,
   "id": "a635d4c2",
   "metadata": {},
   "outputs": [],
   "source": [
    "school_passing_math = combined_data[(combined_data[\"math_score\"] >= 70)]\n",
    "school_passing_math_df = pd.DataFrame(school_passing_math)\n",
    "per_school_passing_math = school_passing_math.groupby([\"school_name\"]).count()[\"math_score\"] / students_by_school * 100\n",
    "per_school_passing_math_df = pd.DataFrame(per_school_passing_math)"
   ]
  },
  {
   "cell_type": "code",
   "execution_count": null,
   "id": "1b67077d",
   "metadata": {},
   "outputs": [],
   "source": [
    "school_passing_reading = combined_data[(combined_data[\"reading_score\"] >= 70)]\n",
    "school_passing_reading_df = pd.DataFrame(school_passing_reading)\n",
    "per_school_passing_reading = school_passing_reading.groupby([\"school_name\"]).count()[\"reading_score\"] / students_by_school * 100\n",
    "per_school_passing_reading_df = pd.DataFrame(per_school_passing_reading)"
   ]
  },
  {
   "cell_type": "code",
   "execution_count": null,
   "id": "b85d3819",
   "metadata": {},
   "outputs": [],
   "source": [
    "passing_math_and_reading = combined_data[(combined_data[\"reading_score\"] >= 70) & (combined_data[\"math_score\"] >= 70)]\n",
    "passing_math_and_reading_df = pd.DataFrame(passing_math_and_reading)\n",
    "overall_passing_rate = passing_math_and_reading.groupby([\"school_name\"]).count()[\"student_name\"] / students_by_school * 100\n",
    "overall_passing_rate_df = pd.DataFrame(overall_passing_rate)"
   ]
  },
  {
   "cell_type": "code",
   "execution_count": null,
   "id": "163e3430",
   "metadata": {},
   "outputs": [],
   "source": [
    "dfmerge1= pd.concat([school_types_df_dropped,students_by_school_df],axis=1)\n",
    "dfmerge2= pd.concat([dfmerge1,budget_by_school_df],axis=1)\n",
    "dfmerge3= pd.concat([dfmerge2,school_per_capita_df],axis=1)\n",
    "dfmerge4= pd.concat([dfmerge3,per_school_math_df],axis=1)\n",
    "dfmerge5= pd.concat([dfmerge4,per_school_reading_df],axis=1)\n",
    "dfmerge6= pd.concat([dfmerge5,per_school_passing_math],axis=1)\n",
    "dfmerge7= pd.concat([dfmerge6,per_school_passing_reading_df],axis=1)\n",
    "per_school_summary = pd.concat([dfmerge7,overall_passing_rate_df],axis=1)\n",
    "\n",
    "per_school_summary.columns = [\"School Type\", \"Total Students\", \"Total School Budget\",\"Per Student Budget\",\"Average Math Score\",\n",
    "                              \"Average Reading Score\",\"% Passing Math\",\"% Passing Reading\",\"% Overall Passing\"]\n",
    "\n",
    "per_school_summary[\"Total School Budget\"] = per_school_summary[\"Total School Budget\"].map(\"${:,.2f}\".format)\n",
    "per_school_summary[\"Per Student Budget\"] = per_school_summary[\"Per Student Budget\"].map(\"${:,.2f}\".format)\n",
    "\n",
    "per_school_summary"
   ]
  },
  {
   "cell_type": "code",
   "execution_count": null,
   "id": "704a7990",
   "metadata": {},
   "outputs": [],
   "source": [
    "top_overall_passing = per_school_summary.sort_values(\"% Overall Passing\", ascending=False)\n",
    "top_overall_passing.head()"
   ]
  },
  {
   "cell_type": "code",
   "execution_count": null,
   "id": "073e0206",
   "metadata": {},
   "outputs": [],
   "source": [
    "worst_overall_passing = per_school_summary.sort_values(\"% Overall Passing\", ascending=True)\n",
    "worst_overall_passing.head()"
   ]
  },
  {
   "cell_type": "code",
   "execution_count": null,
   "id": "4a0e8146",
   "metadata": {},
   "outputs": [],
   "source": [
    "ninth_graders = combined_data[(combined_data[\"grade\"] == \"9th\")]\n",
    "tenth_graders = combined_data[(combined_data[\"grade\"] == \"10th\")]\n",
    "eleventh_graders = combined_data[(combined_data[\"grade\"] == \"11th\")]\n",
    "twelfth_graders = combined_data[(combined_data[\"grade\"] == \"12th\")]\n",
    "\n",
    "ninth_graders_scores = ninth_graders.groupby([\"school_name\"]).mean()[\"math_score\"]\n",
    "ninth_grade_math_df = pd.DataFrame(ninth_graders_scores)\n",
    "\n",
    "tenth_graders_scores = tenth_graders.groupby([\"school_name\"]).mean()[\"math_score\"]\n",
    "tenth_grade_math_df = pd.DataFrame(tenth_graders_scores)\n",
    "\n",
    "eleventh_graders_scores = eleventh_graders.groupby([\"school_name\"]).mean()[\"math_score\"]\n",
    "eleventh_grade_math_df = pd.DataFrame(eleventh_graders_scores)\n",
    "\n",
    "twelfth_graders_scores = twelfth_graders.groupby([\"school_name\"]).mean()[\"math_score\"]\n",
    "twelfth_grade_math_df = pd.DataFrame(twelfth_graders_scores)\n",
    "\n",
    "dfmerge_1= pd.concat([ninth_grade_math_df, tenth_grade_math_df],axis=1)\n",
    "dfmerge_2= pd.concat([dfmerge_1, eleventh_grade_math_df],axis=1)\n",
    "math_scores_by_grade= pd.concat([dfmerge_2, twelfth_grade_math_df],axis=1)\n",
    "math_scores_by_grade.columns = [\"9th\",\"10th\",\"11th\",\"12th\"]\n",
    "\n",
    "math_scores_by_grade"
   ]
  },
  {
   "cell_type": "code",
   "execution_count": null,
   "id": "c95c59fb",
   "metadata": {},
   "outputs": [],
   "source": [
    "ninth_graders = combined_data[(combined_data[\"grade\"] == \"9th\")]\n",
    "tenth_graders = combined_data[(combined_data[\"grade\"] == \"10th\")]\n",
    "eleventh_graders = combined_data[(combined_data[\"grade\"] == \"11th\")]\n",
    "twelfth_graders = combined_data[(combined_data[\"grade\"] == \"12th\")]\n",
    "\n",
    "ninth_graders_scores = ninth_graders.groupby([\"school_name\"]).mean()[\"reading_score\"]\n",
    "ninth_grade_reading_df = pd.DataFrame(ninth_graders_scores)\n",
    "\n",
    "tenth_graders_scores = tenth_graders.groupby([\"school_name\"]).mean()[\"reading_score\"]\n",
    "tenth_grade_reading_df = pd.DataFrame(tenth_graders_scores)\n",
    "\n",
    "eleventh_graders_scores = eleventh_graders.groupby([\"school_name\"]).mean()[\"reading_score\"]\n",
    "eleventh_grade_reading_df = pd.DataFrame(eleventh_graders_scores)\n",
    "\n",
    "twelfth_graders_scores = twelfth_graders.groupby([\"school_name\"]).mean()[\"reading_score\"]\n",
    "twelfth_grade_reading_df = pd.DataFrame(twelfth_graders_scores)\n",
    "\n",
    "dfmerge_1= pd.concat([ninth_grade_reading_df, tenth_grade_reading_df],axis=1)\n",
    "dfmerge_2= pd.concat([dfmerge_1, eleventh_grade_reading_df],axis=1)\n",
    "reading_scores_by_grade= pd.concat([dfmerge_2, twelfth_grade_reading_df],axis=1)\n",
    "reading_scores_by_grade.columns = [\"9th\",\"10th\",\"11th\",\"12th\"]\n",
    "\n",
    "reading_scores_by_grade"
   ]
  },
  {
   "cell_type": "code",
   "execution_count": null,
   "id": "f4df67b1",
   "metadata": {},
   "outputs": [],
   "source": [
    "spending_bins = [0, 585, 630, 645, 680]\n",
    "labels = [\"<585\", \"585-630\", \"630-645\", \"645-680\"]"
   ]
  },
  {
   "cell_type": "code",
   "execution_count": null,
   "id": "a0f6af68",
   "metadata": {},
   "outputs": [],
   "source": [
    "school_spending_df = per_school_summary.copy()\n",
    "school_spending_df[\"Per Student Budget\"]= school_spending_df[\"Per Student Budget\"].str.replace('$', '')\n",
    "school_spending_df[\"Per Student Budget\"] = school_spending_df[\"Per Student Budget\"].astype(float)"
   ]
  },
  {
   "cell_type": "code",
   "execution_count": null,
   "id": "942f5470",
   "metadata": {},
   "outputs": [],
   "source": [
    "school_spending_df[\"Spending Ranges (Per Student)\"] = pd.cut(school_spending_df[\"Per Student Budget\"], bins=spending_bins,labels=labels)"
   ]
  },
  {
   "cell_type": "code",
   "execution_count": null,
   "id": "7a801323",
   "metadata": {},
   "outputs": [],
   "source": [
    "school_spending_df"
   ]
  },
  {
   "cell_type": "code",
   "execution_count": null,
   "id": "bd740871",
   "metadata": {},
   "outputs": [],
   "source": [
    "spending_math_scores = school_spending_df.groupby([\"Spending Ranges (Per Student)\"]).mean()[\"Average Math Score\"]\n",
    "spending_math_scores_df = pd.DataFrame(spending_math_scores)\n",
    "spending_reading_scores = school_spending_df.groupby([\"Spending Ranges (Per Student)\"]).mean()[\"Average Reading Score\"]\n",
    "spending_reading_scores_df = pd.DataFrame(spending_reading_scores)\n",
    "spending_passing_math = school_spending_df.groupby([\"Spending Ranges (Per Student)\"]).mean()[\"% Passing Math\"]\n",
    "spending_passing_math_df = pd.DataFrame(spending_passing_math)\n",
    "spending_passing_reading = school_spending_df.groupby([\"Spending Ranges (Per Student)\"]).mean()[\"% Passing Reading\"]\n",
    "spending_passing_reading_df = pd.DataFrame(spending_passing_reading)\n",
    "overall_passing_spending = school_spending_df.groupby([\"Spending Ranges (Per Student)\"]).mean()[\"% Overall Passing\"]\n",
    "overall_passing_spending_df = pd.DataFrame(overall_passing_spending)"
   ]
  },
  {
   "cell_type": "code",
   "execution_count": null,
   "id": "d96817fb",
   "metadata": {},
   "outputs": [],
   "source": [
    "merge_1 = pd.concat([spending_math_scores_df, spending_reading_scores_df],axis=1)\n",
    "merge_2 = pd.concat([merge_1, spending_passing_math_df], axis=1)\n",
    "merge_3 = pd.concat([merge_2, spending_passing_reading_df], axis=1)\n",
    "spending_summary = pd.concat([merge_3, overall_passing_spending_df], axis=1)\n",
    "\n",
    "spending_summary"
   ]
  },
  {
   "cell_type": "code",
   "execution_count": null,
   "id": "c2140d8b",
   "metadata": {},
   "outputs": [],
   "source": [
    "size_bins = [0, 1000, 2000, 5000]\n",
    "labels = [\"Small (<1000)\", \"Medium (1000-2000)\", \"Large (2000-5000)\"]"
   ]
  },
  {
   "cell_type": "code",
   "execution_count": null,
   "id": "f4f9479a",
   "metadata": {},
   "outputs": [],
   "source": [
    "per_school_summary[\"School Size\"] = pd.cut(per_school_summary[\"Total Students\"], bins=size_bins, labels= labels)\n",
    "per_school_summary"
   ]
  },
  {
   "cell_type": "code",
   "execution_count": null,
   "id": "5048b2c2",
   "metadata": {},
   "outputs": [],
   "source": [
    "size_math_scores = per_school_summary.groupby([\"School Size\"]).mean()[\"Average Math Score\"]\n",
    "size_math_scores_df = pd.DataFrame(size_math_scores)\n",
    "size_reading_scores = per_school_summary.groupby([\"School Size\"]).mean()[\"Average Reading Score\"]\n",
    "size_reading_scores_df = pd.DataFrame(size_reading_scores)\n",
    "size_passing_math = per_school_summary.groupby([\"School Size\"]).mean()[\"% Passing Math\"]\n",
    "size_passing_math_df = pd.DataFrame(size_passing_math)\n",
    "size_passing_reading = per_school_summary.groupby([\"School Size\"]).mean()[\"% Passing Reading\"]\n",
    "size_passing_reading_df = pd.DataFrame(size_passing_reading)\n",
    "size_overall_passing = per_school_summary.groupby([\"School Size\"]).mean()[\"% Overall Passing\"]\n",
    "size_overall_passing_df = pd.DataFrame(size_overall_passing)"
   ]
  },
  {
   "cell_type": "code",
   "execution_count": null,
   "id": "b558020b",
   "metadata": {},
   "outputs": [],
   "source": [
    "size_merge1 = pd.concat([size_math_scores_df, size_reading_scores_df], axis=1)\n",
    "size_merge2 = pd.concat([size_merge1, size_passing_math_df], axis=1)\n",
    "size_merge3 = pd.concat([size_merge2, size_passing_reading_df], axis=1)\n",
    "size_summary = pd.concat([size_merge3, size_overall_passing_df], axis=1)\n",
    "\n",
    "size_summary"
   ]
  },
  {
   "cell_type": "code",
   "execution_count": null,
   "id": "92242669",
   "metadata": {},
   "outputs": [],
   "source": [
    "type_math_scores = per_school_summary.groupby([\"School Type\"]).mean()[\"Average Math Score\"]\n",
    "type_math_scores_df = pd.DataFrame(type_math_scores)\n",
    "type_reading_scores = per_school_summary.groupby([\"School Type\"]).mean()[\"Average Reading Score\"]\n",
    "type_reading_scores_df = pd.DataFrame(type_reading_scores)\n",
    "type_passing_math = per_school_summary.groupby([\"School Type\"]).mean()[\"% Passing Math\"]\n",
    "type_passing_math_df = pd.DataFrame(type_passing_math)\n",
    "type_passing_reading = per_school_summary.groupby([\"School Type\"]).mean()[\"% Passing Reading\"]\n",
    "type_passing_reading_df = pd.DataFrame(type_passing_reading)\n",
    "type_overall_passing = per_school_summary.groupby([\"School Type\"]).mean()[\"% Overall Passing\"]\n",
    "type_overall_passing_df = pd.DataFrame(type_overall_passing)"
   ]
  },
  {
   "cell_type": "code",
   "execution_count": null,
   "id": "5b5fdc9b",
   "metadata": {},
   "outputs": [],
   "source": [
    "type_merge1 = pd.concat([type_math_scores_df, type_reading_scores_df], axis=1)\n",
    "type_merge2 = pd.concat([type_merge1, type_passing_math_df], axis=1)\n",
    "type_merge3 = pd.concat([type_merge2, type_passing_reading_df], axis=1)\n",
    "type_summary = pd.concat([type_merge3, type_overall_passing_df], axis=1)\n",
    "\n",
    "type_summary"
   ]
  },
  {
   "cell_type": "code",
   "execution_count": null,
   "id": "e2c8f5a6",
   "metadata": {},
   "outputs": [],
   "source": []
  },
  {
   "cell_type": "code",
   "execution_count": null,
   "id": "1670715a",
   "metadata": {},
   "outputs": [],
   "source": []
  }
 ],
 "metadata": {
  "kernelspec": {
   "display_name": "PythonData",
   "language": "python",
   "name": "pythondata"
  },
  "language_info": {
   "codemirror_mode": {
    "name": "ipython",
    "version": 3
   },
   "file_extension": ".py",
   "mimetype": "text/x-python",
   "name": "python",
   "nbconvert_exporter": "python",
   "pygments_lexer": "ipython3",
   "version": "3.7.7"
  }
 },
 "nbformat": 4,
 "nbformat_minor": 5
}
